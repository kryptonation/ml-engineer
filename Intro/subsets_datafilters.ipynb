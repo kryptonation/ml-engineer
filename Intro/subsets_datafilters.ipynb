{
 "cells": [
  {
   "cell_type": "markdown",
   "metadata": {},
   "source": [
    "# Pandas\n",
    "## Subsets and Data Filters"
   ]
  },
  {
   "cell_type": "code",
   "execution_count": 1,
   "metadata": {},
   "outputs": [],
   "source": [
    "# import necessary packages\n",
    "import pandas as pd"
   ]
  },
  {
   "cell_type": "code",
   "execution_count": 3,
   "metadata": {},
   "outputs": [
    {
     "name": "stdout",
     "output_type": "stream",
     "text": [
      "(45211, 18)\n",
      "Index(['Cust_num', 'age', 'job', 'marital', 'education', 'default', 'balance',\n",
      "       'housing', 'loan', 'contact', 'day', 'month', 'duration', 'campaign',\n",
      "       'pdays', 'previous', 'poutcome', 'y'],\n",
      "      dtype='object')\n"
     ]
    }
   ],
   "source": [
    "# Import csv data into the dataframe\n",
    "bank = pd.read_csv(\"./data/Bank Tele Marketing/bank_market.csv\")\n",
    "print(bank.shape)\n",
    "print(bank.columns)"
   ]
  },
  {
   "cell_type": "code",
   "execution_count": 4,
   "metadata": {},
   "outputs": [
    {
     "name": "stdout",
     "output_type": "stream",
     "text": [
      "    Cust_num  age           job   marital  education default  balance housing  \\\n",
      "0          1   58    management   married   tertiary      no     2143     yes   \n",
      "1          2   44    technician    single  secondary      no       29     yes   \n",
      "2          3   33  entrepreneur   married  secondary      no        2     yes   \n",
      "3          4   47   blue-collar   married    unknown      no     1506     yes   \n",
      "4          5   33       unknown    single    unknown      no        1      no   \n",
      "5          6   35    management   married   tertiary      no      231     yes   \n",
      "6          7   28    management    single   tertiary      no      447     yes   \n",
      "7          8   42  entrepreneur  divorced   tertiary     yes        2     yes   \n",
      "8          9   58       retired   married    primary      no      121     yes   \n",
      "9         10   43    technician    single  secondary      no      593     yes   \n",
      "10        11   41        admin.  divorced  secondary      no      270     yes   \n",
      "11        12   29        admin.    single  secondary      no      390     yes   \n",
      "12        13   53    technician   married  secondary      no        6     yes   \n",
      "13        14   58    technician   married    unknown      no       71     yes   \n",
      "14        15   57      services   married  secondary      no      162     yes   \n",
      "\n",
      "   loan  contact  day month  duration  campaign  pdays  previous poutcome   y  \n",
      "0    no  unknown    5   may       261         1     -1         0  unknown  no  \n",
      "1    no  unknown    5   may       151         1     -1         0  unknown  no  \n",
      "2   yes  unknown    5   may        76         1     -1         0  unknown  no  \n",
      "3    no  unknown    5   may        92         1     -1         0  unknown  no  \n",
      "4    no  unknown    5   may       198         1     -1         0  unknown  no  \n",
      "5    no  unknown    5   may       139         1     -1         0  unknown  no  \n",
      "6   yes  unknown    5   may       217         1     -1         0  unknown  no  \n",
      "7    no  unknown    5   may       380         1     -1         0  unknown  no  \n",
      "8    no  unknown    5   may        50         1     -1         0  unknown  no  \n",
      "9    no  unknown    5   may        55         1     -1         0  unknown  no  \n",
      "10   no  unknown    5   may       222         1     -1         0  unknown  no  \n",
      "11   no  unknown    5   may       137         1     -1         0  unknown  no  \n",
      "12   no  unknown    5   may       517         1     -1         0  unknown  no  \n",
      "13   no  unknown    5   may        71         1     -1         0  unknown  no  \n",
      "14   no  unknown    5   may       174         1     -1         0  unknown  no  \n"
     ]
    }
   ],
   "source": [
    "# Print head of 15 rows from dataframe\n",
    "print(bank.head(15))"
   ]
  },
  {
   "cell_type": "code",
   "execution_count": 5,
   "metadata": {},
   "outputs": [
    {
     "name": "stdout",
     "output_type": "stream",
     "text": [
      "Cust_num                3\n",
      "age                    33\n",
      "job          entrepreneur\n",
      "marital           married\n",
      "education       secondary\n",
      "default                no\n",
      "balance                 2\n",
      "housing               yes\n",
      "loan                  yes\n",
      "contact           unknown\n",
      "day                     5\n",
      "month                 may\n",
      "duration               76\n",
      "campaign                1\n",
      "pdays                  -1\n",
      "previous                0\n",
      "poutcome          unknown\n",
      "y                      no\n",
      "Name: 2, dtype: object\n",
      "<class 'pandas.core.series.Series'>\n"
     ]
    }
   ],
   "source": [
    "# Get only specific row using the index\n",
    "bank2 = bank.iloc[2]\n",
    "print(bank2)\n",
    "print(type(bank2))"
   ]
  },
  {
   "cell_type": "code",
   "execution_count": 6,
   "metadata": {},
   "outputs": [
    {
     "name": "stdout",
     "output_type": "stream",
     "text": [
      "    Cust_num  age           job  marital  education default  balance housing  \\\n",
      "2          3   33  entrepreneur  married  secondary      no        2     yes   \n",
      "5          6   35    management  married   tertiary      no      231     yes   \n",
      "8          9   58       retired  married    primary      no      121     yes   \n",
      "12        13   53    technician  married  secondary      no        6     yes   \n",
      "54        55   24    technician   single  secondary      no     -103     yes   \n",
      "\n",
      "   loan  contact  day month  duration  campaign  pdays  previous poutcome   y  \n",
      "2   yes  unknown    5   may        76         1     -1         0  unknown  no  \n",
      "5    no  unknown    5   may       139         1     -1         0  unknown  no  \n",
      "8    no  unknown    5   may        50         1     -1         0  unknown  no  \n",
      "12   no  unknown    5   may       517         1     -1         0  unknown  no  \n",
      "54  yes  unknown    5   may       145         1     -1         0  unknown  no  \n"
     ]
    }
   ],
   "source": [
    "# If we want to get the greater number of indices than one, it can be done this way\n",
    "indices = [2, 5, 8, 12, 54]\n",
    "bank3 = bank.iloc[indices]\n",
    "print(bank3)"
   ]
  },
  {
   "cell_type": "code",
   "execution_count": 7,
   "metadata": {},
   "outputs": [
    {
     "name": "stdout",
     "output_type": "stream",
     "text": [
      "                job  age\n",
      "0        management   58\n",
      "1        technician   44\n",
      "2      entrepreneur   33\n",
      "3       blue-collar   47\n",
      "4           unknown   33\n",
      "...             ...  ...\n",
      "45206    technician   51\n",
      "45207       retired   71\n",
      "45208       retired   72\n",
      "45209   blue-collar   57\n",
      "45210  entrepreneur   37\n",
      "\n",
      "[45211 rows x 2 columns]\n"
     ]
    }
   ],
   "source": [
    "# To create new dataset by separating only few columns from existing dataframe\n",
    "cols = [\"job\", \"age\"]\n",
    "bank4 = bank[cols]\n",
    "print(bank4)"
   ]
  },
  {
   "cell_type": "code",
   "execution_count": 8,
   "metadata": {},
   "outputs": [
    {
     "name": "stdout",
     "output_type": "stream",
     "text": [
      "   age           job\n",
      "4   33       unknown\n",
      "5   35    management\n",
      "6   28    management\n",
      "7   42  entrepreneur\n",
      "8   58       retired\n",
      "9   43    technician\n"
     ]
    }
   ],
   "source": [
    "# To get specific columns and few rows from existing dataframe\n",
    "bank5 = bank[[\"age\", \"job\"]].iloc[4:10]\n",
    "print(bank5)"
   ]
  },
  {
   "cell_type": "code",
   "execution_count": 9,
   "metadata": {},
   "outputs": [
    {
     "name": "stdout",
     "output_type": "stream",
     "text": [
      "    Cust_num  age           job   marital  education default  balance housing  \\\n",
      "1          2   44    technician    single  secondary      no       29     yes   \n",
      "2          3   33  entrepreneur   married  secondary      no        2     yes   \n",
      "3          4   47   blue-collar   married    unknown      no     1506     yes   \n",
      "5          6   35    management   married   tertiary      no      231     yes   \n",
      "7          8   42  entrepreneur  divorced   tertiary     yes        2     yes   \n",
      "8          9   58       retired   married    primary      no      121     yes   \n",
      "10        11   41        admin.  divorced  secondary      no      270     yes   \n",
      "11        12   29        admin.    single  secondary      no      390     yes   \n",
      "12        13   53    technician   married  secondary      no        6     yes   \n",
      "13        14   58    technician   married    unknown      no       71     yes   \n",
      "\n",
      "   loan  contact  day month  duration  campaign  pdays  previous poutcome   y  \n",
      "1    no  unknown    5   may       151         1     -1         0  unknown  no  \n",
      "2   yes  unknown    5   may        76         1     -1         0  unknown  no  \n",
      "3    no  unknown    5   may        92         1     -1         0  unknown  no  \n",
      "5    no  unknown    5   may       139         1     -1         0  unknown  no  \n",
      "7    no  unknown    5   may       380         1     -1         0  unknown  no  \n",
      "8    no  unknown    5   may        50         1     -1         0  unknown  no  \n",
      "10   no  unknown    5   may       222         1     -1         0  unknown  no  \n",
      "11   no  unknown    5   may       137         1     -1         0  unknown  no  \n",
      "12   no  unknown    5   may       517         1     -1         0  unknown  no  \n",
      "13   no  unknown    5   may        71         1     -1         0  unknown  no  \n"
     ]
    }
   ],
   "source": [
    "# To exclude a set of rows based on indices\n",
    "bank6 = bank.drop([0, 4, 6, 9])\n",
    "print(bank6.head(10))"
   ]
  },
  {
   "cell_type": "code",
   "execution_count": 10,
   "metadata": {},
   "outputs": [
    {
     "name": "stdout",
     "output_type": "stream",
     "text": [
      "   age           job  marital  education default  balance housing loan  \\\n",
      "0   58    management  married   tertiary      no     2143     yes   no   \n",
      "1   44    technician   single  secondary      no       29     yes   no   \n",
      "2   33  entrepreneur  married  secondary      no        2     yes  yes   \n",
      "3   47   blue-collar  married    unknown      no     1506     yes   no   \n",
      "4   33       unknown   single    unknown      no        1      no   no   \n",
      "\n",
      "   contact  day month  duration  campaign  pdays  previous poutcome   y  \n",
      "0  unknown    5   may       261         1     -1         0  unknown  no  \n",
      "1  unknown    5   may       151         1     -1         0  unknown  no  \n",
      "2  unknown    5   may        76         1     -1         0  unknown  no  \n",
      "3  unknown    5   may        92         1     -1         0  unknown  no  \n",
      "4  unknown    5   may       198         1     -1         0  unknown  no  \n"
     ]
    }
   ],
   "source": [
    "# To exclude few columns from the dataframe\n",
    "bank7 = bank.drop([\"Cust_num\"], axis=1) # axis=1 for columns, axis=0 for rows. Default is 0\n",
    "print(bank7.head(5))"
   ]
  },
  {
   "cell_type": "code",
   "execution_count": 11,
   "metadata": {},
   "outputs": [
    {
     "name": "stdout",
     "output_type": "stream",
     "text": [
      "(20494, 18)\n"
     ]
    }
   ],
   "source": [
    "# Try to extract dataset based on the condition\n",
    "bank8 = bank[bank[\"age\"] > 40]\n",
    "print(bank8.shape)"
   ]
  },
  {
   "cell_type": "code",
   "execution_count": 13,
   "metadata": {},
   "outputs": [
    {
     "name": "stdout",
     "output_type": "stream",
     "text": [
      "(17156, 18)\n"
     ]
    }
   ],
   "source": [
    "# Multiple filtering conditions\n",
    "bank9 = bank[(bank[\"age\"] > 40) & (bank[\"loan\"] == 'no')]\n",
    "print(bank9.shape)"
   ]
  },
  {
   "cell_type": "code",
   "execution_count": 14,
   "metadata": {},
   "outputs": [
    {
     "name": "stdout",
     "output_type": "stream",
     "text": [
      "(41305, 18)\n"
     ]
    }
   ],
   "source": [
    "bank10 = bank[(bank[\"age\"] > 40) | (bank[\"loan\"] == \"no\")]\n",
    "print(bank10.shape)"
   ]
  },
  {
   "cell_type": "code",
   "execution_count": null,
   "metadata": {},
   "outputs": [],
   "source": []
  }
 ],
 "metadata": {
  "kernelspec": {
   "display_name": "learn",
   "language": "python",
   "name": "python3"
  },
  "language_info": {
   "codemirror_mode": {
    "name": "ipython",
    "version": 3
   },
   "file_extension": ".py",
   "mimetype": "text/x-python",
   "name": "python",
   "nbconvert_exporter": "python",
   "pygments_lexer": "ipython3",
   "version": "3.11.9"
  }
 },
 "nbformat": 4,
 "nbformat_minor": 2
}
