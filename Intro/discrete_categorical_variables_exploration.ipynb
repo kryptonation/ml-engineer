{
 "cells": [
  {
   "cell_type": "markdown",
   "metadata": {},
   "source": [
    "# Exploring discrete and categorical values"
   ]
  },
  {
   "cell_type": "code",
   "execution_count": 2,
   "metadata": {},
   "outputs": [],
   "source": [
    "# import necessary libraries\n",
    "import pandas as pd"
   ]
  },
  {
   "cell_type": "code",
   "execution_count": 3,
   "metadata": {},
   "outputs": [
    {
     "name": "stdout",
     "output_type": "stream",
     "text": [
      "(32561, 15)\n",
      "Index(['age', 'workclass', 'fnlwgt', 'education', 'education-num',\n",
      "       'marital-status', 'occupation', 'relationship', 'race', 'sex',\n",
      "       'capital-gain', 'capital-loss', 'hours-per-week', 'native-country',\n",
      "       'Income_band'],\n",
      "      dtype='object')\n"
     ]
    }
   ],
   "source": [
    "# import dataset into dataframe\n",
    "income_data = pd.read_csv(\"./data/Census Income Data/Income_data.csv\")\n",
    "print(income_data.shape)\n",
    "print(income_data.columns)"
   ]
  },
  {
   "cell_type": "code",
   "execution_count": 4,
   "metadata": {},
   "outputs": [
    {
     "data": {
      "text/plain": [
       "education\n",
       "HS-grad         10501\n",
       "Some-college     7291\n",
       "Bachelors        5355\n",
       "Masters          1723\n",
       "Assoc-voc        1382\n",
       "11th             1175\n",
       "Assoc-acdm       1067\n",
       "10th              933\n",
       "7th-8th           646\n",
       "Prof-school       576\n",
       "9th               514\n",
       "12th              433\n",
       "Doctorate         413\n",
       "5th-6th           333\n",
       "1st-4th           168\n",
       "Preschool          51\n",
       "Name: count, dtype: int64"
      ]
     },
     "execution_count": 4,
     "metadata": {},
     "output_type": "execute_result"
    }
   ],
   "source": [
    "# Get the frequencies of income data based on education paramter\n",
    "income_data[\"education\"].value_counts()"
   ]
  },
  {
   "cell_type": "code",
   "execution_count": 6,
   "metadata": {},
   "outputs": [
    {
     "name": "stdout",
     "output_type": "stream",
     "text": [
      "              counts   percent\n",
      "education                     \n",
      "HS-grad        10501  0.322502\n",
      "Some-college    7291  0.223918\n",
      "Bachelors       5355  0.164461\n",
      "Masters         1723  0.052916\n",
      "Assoc-voc       1382  0.042443\n",
      "11th            1175  0.036086\n",
      "Assoc-acdm      1067  0.032769\n",
      "10th             933  0.028654\n",
      "7th-8th          646  0.019840\n",
      "Prof-school      576  0.017690\n",
      "9th              514  0.015786\n",
      "12th             433  0.013298\n",
      "Doctorate        413  0.012684\n",
      "5th-6th          333  0.010227\n",
      "1st-4th          168  0.005160\n",
      "Preschool         51  0.001566\n"
     ]
    }
   ],
   "source": [
    "# To print frequency values in percentages\n",
    "freq = income_data[\"education\"].value_counts()\n",
    "percent = income_data[\"education\"].value_counts(normalize=True)\n",
    "\n",
    "freq_table = pd.concat([freq, percent], axis=1, keys=[\"counts\", \"percent\"])\n",
    "print(freq_table)"
   ]
  },
  {
   "cell_type": "code",
   "execution_count": 8,
   "metadata": {},
   "outputs": [
    {
     "name": "stdout",
     "output_type": "stream",
     "text": [
      "Income_band   <=50K  >50K     <=50K      >50K\n",
      "education                                    \n",
      "10th            871    62  0.933548  0.066452\n",
      "11th           1115    60  0.948936  0.051064\n",
      "12th            400    33  0.923788  0.076212\n",
      "1st-4th         162     6  0.964286  0.035714\n",
      "5th-6th         317    16  0.951952  0.048048\n",
      "7th-8th         606    40  0.938080  0.061920\n",
      "9th             487    27  0.947471  0.052529\n",
      "Assoc-acdm      802   265  0.751640  0.248360\n",
      "Assoc-voc      1021   361  0.738784  0.261216\n",
      "Bachelors      3134  2221  0.585247  0.414753\n",
      "Doctorate       107   306  0.259080  0.740920\n",
      "HS-grad        8826  1675  0.840491  0.159509\n",
      "Masters         764   959  0.443413  0.556587\n",
      "Preschool        51     0  1.000000  0.000000\n",
      "Prof-school     153   423  0.265625  0.734375\n",
      "Some-college   5904  1387  0.809765  0.190235\n"
     ]
    }
   ],
   "source": [
    "# Create a cross tab by comparint both the education and income tab\n",
    "cross_tab = pd.crosstab(income_data[\"education\"], income_data[\"Income_band\"])\n",
    "cross_tab_p = cross_tab.astype(float).div(cross_tab.sum(axis=1), axis=0)\n",
    "final_table = pd.concat([cross_tab, cross_tab_p], axis=1)\n",
    "print(final_table)"
   ]
  },
  {
   "cell_type": "code",
   "execution_count": null,
   "metadata": {},
   "outputs": [],
   "source": []
  }
 ],
 "metadata": {
  "kernelspec": {
   "display_name": "learn",
   "language": "python",
   "name": "python3"
  },
  "language_info": {
   "codemirror_mode": {
    "name": "ipython",
    "version": 3
   },
   "file_extension": ".py",
   "mimetype": "text/x-python",
   "name": "python",
   "nbconvert_exporter": "python",
   "pygments_lexer": "ipython3",
   "version": "3.11.9"
  }
 },
 "nbformat": 4,
 "nbformat_minor": 2
}
