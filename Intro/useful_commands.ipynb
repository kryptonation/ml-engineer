{
 "cells": [
  {
   "cell_type": "markdown",
   "metadata": {},
   "source": [
    "# Pandas\n",
    "### Useful commands"
   ]
  },
  {
   "cell_type": "code",
   "execution_count": 1,
   "metadata": {},
   "outputs": [],
   "source": [
    "# import necessary libraries\n",
    "import pandas as pd\n"
   ]
  },
  {
   "cell_type": "code",
   "execution_count": 3,
   "metadata": {},
   "outputs": [
    {
     "name": "stdout",
     "output_type": "stream",
     "text": [
      "(45211, 18)\n",
      "Index(['Cust_num', 'age', 'job', 'marital', 'education', 'default', 'balance',\n",
      "       'housing', 'loan', 'contact', 'day', 'month', 'duration', 'campaign',\n",
      "       'pdays', 'previous', 'poutcome', 'y'],\n",
      "      dtype='object')\n"
     ]
    }
   ],
   "source": [
    "# Import values from csv to dataframe\n",
    "bank = pd.read_csv(\"./data/Bank Tele Marketing/bank_market.csv\")\n",
    "print(bank.shape)\n",
    "print(bank.columns)"
   ]
  },
  {
   "cell_type": "code",
   "execution_count": 4,
   "metadata": {},
   "outputs": [
    {
     "name": "stdout",
     "output_type": "stream",
     "text": [
      "(45211, 19)\n",
      "Index(['Cust_num', 'age', 'job', 'marital', 'education', 'default', 'balance',\n",
      "       'housing', 'loan', 'contact', 'day', 'month', 'duration', 'campaign',\n",
      "       'pdays', 'previous', 'poutcome', 'y', 'bal_new'],\n",
      "      dtype='object')\n"
     ]
    }
   ],
   "source": [
    "## Creating new column or adding variable to dataframe\n",
    "bank[\"bal_new\"] = bank[\"balance\"] * 0.9\n",
    "print(bank.shape)\n",
    "print(bank.columns)"
   ]
  },
  {
   "cell_type": "markdown",
   "metadata": {},
   "source": [
    "### Joins on the datasets"
   ]
  },
  {
   "cell_type": "code",
   "execution_count": 5,
   "metadata": {},
   "outputs": [
    {
     "name": "stdout",
     "output_type": "stream",
     "text": [
      "(665, 5)\n",
      "(654, 5)\n"
     ]
    }
   ],
   "source": [
    "# Import datasets into dataframes\n",
    "p1 = pd.read_csv(\"./data/Orders Products/product1_orders.csv\")\n",
    "p2 = pd.read_csv(\"./data/Orders Products/product2_orders.csv\")\n",
    "print(p1.shape)\n",
    "print(p2.shape)"
   ]
  },
  {
   "cell_type": "code",
   "execution_count": 6,
   "metadata": {},
   "outputs": [
    {
     "name": "stdout",
     "output_type": "stream",
     "text": [
      "(342, 9)\n"
     ]
    }
   ],
   "source": [
    "## Inner join\n",
    "inner_data = pd.merge(p1, p2, on=\"Cust_id\", how=\"inner\")\n",
    "print(inner_data.shape)"
   ]
  },
  {
   "cell_type": "code",
   "execution_count": 7,
   "metadata": {},
   "outputs": [
    {
     "name": "stdout",
     "output_type": "stream",
     "text": [
      "(977, 9)\n"
     ]
    }
   ],
   "source": [
    "## Outer join\n",
    "outer_data = pd.merge(p1, p2, on=\"Cust_id\", how=\"outer\")\n",
    "print(outer_data.shape)"
   ]
  },
  {
   "cell_type": "code",
   "execution_count": 8,
   "metadata": {},
   "outputs": [
    {
     "name": "stdout",
     "output_type": "stream",
     "text": [
      "(665, 9)\n"
     ]
    }
   ],
   "source": [
    "## Left Outer Join\n",
    "left_outer_data = pd.merge(p1, p2, on=\"Cust_id\", how=\"left\")\n",
    "print(left_outer_data.shape)"
   ]
  },
  {
   "cell_type": "code",
   "execution_count": 9,
   "metadata": {},
   "outputs": [
    {
     "name": "stdout",
     "output_type": "stream",
     "text": [
      "(654, 9)\n"
     ]
    }
   ],
   "source": [
    "## Right outer join\n",
    "right_outer_data = pd.merge(p1, p2, on=\"Cust_id\", how=\"right\")\n",
    "print(right_outer_data.shape)"
   ]
  },
  {
   "cell_type": "code",
   "execution_count": 10,
   "metadata": {},
   "outputs": [
    {
     "name": "stdout",
     "output_type": "stream",
     "text": [
      "(342, 9)\n"
     ]
    }
   ],
   "source": [
    "## Inner data with joins\n",
    "inner_data1 = pd.merge(p1, p2, left_on=\"Cust_id\", right_on=\"Cust_id\", how=\"inner\")\n",
    "print(inner_data1.shape)"
   ]
  },
  {
   "cell_type": "code",
   "execution_count": null,
   "metadata": {},
   "outputs": [],
   "source": []
  }
 ],
 "metadata": {
  "kernelspec": {
   "display_name": "learn",
   "language": "python",
   "name": "python3"
  },
  "language_info": {
   "codemirror_mode": {
    "name": "ipython",
    "version": 3
   },
   "file_extension": ".py",
   "mimetype": "text/x-python",
   "name": "python",
   "nbconvert_exporter": "python",
   "pygments_lexer": "ipython3",
   "version": "3.11.9"
  }
 },
 "nbformat": 4,
 "nbformat_minor": 2
}
