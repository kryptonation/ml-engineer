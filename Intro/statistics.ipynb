{
 "cells": [
  {
   "cell_type": "markdown",
   "metadata": {},
   "source": [
    "# Basic Statistics"
   ]
  },
  {
   "cell_type": "code",
   "execution_count": 1,
   "metadata": {},
   "outputs": [],
   "source": [
    "# Import necessary libraries\n",
    "import pandas as pd"
   ]
  },
  {
   "cell_type": "code",
   "execution_count": 2,
   "metadata": {},
   "outputs": [
    {
     "name": "stdout",
     "output_type": "stream",
     "text": [
      "(32561, 15)\n",
      "Index(['age', 'workclass', 'fnlwgt', 'education', 'education-num',\n",
      "       'marital-status', 'occupation', 'relationship', 'race', 'sex',\n",
      "       'capital-gain', 'capital-loss', 'hours-per-week', 'native-country',\n",
      "       'Income_band'],\n",
      "      dtype='object')\n"
     ]
    }
   ],
   "source": [
    "# Import dataset into dataframe\n",
    "income_data = pd.read_csv(\"./data/Census Income Data/Income_data.csv\")\n",
    "print(income_data.shape)\n",
    "print(income_data.columns)"
   ]
  },
  {
   "cell_type": "code",
   "execution_count": 3,
   "metadata": {},
   "outputs": [
    {
     "name": "stdout",
     "output_type": "stream",
     "text": [
      "1077.6488437087312\n"
     ]
    }
   ],
   "source": [
    "# Calculate the mean of capital gain column\n",
    "print(income_data[\"capital-gain\"].mean())"
   ]
  },
  {
   "cell_type": "code",
   "execution_count": 4,
   "metadata": {},
   "outputs": [
    {
     "name": "stdout",
     "output_type": "stream",
     "text": [
      "0.0\n"
     ]
    }
   ],
   "source": [
    "# Calculate the median for capital gain column\n",
    "print(income_data[\"capital-gain\"].median())"
   ]
  },
  {
   "cell_type": "code",
   "execution_count": 5,
   "metadata": {},
   "outputs": [
    {
     "name": "stdout",
     "output_type": "stream",
     "text": [
      "(45211, 18)\n",
      "Index(['Cust_num', 'age', 'job', 'marital', 'education', 'default', 'balance',\n",
      "       'housing', 'loan', 'contact', 'day', 'month', 'duration', 'campaign',\n",
      "       'pdays', 'previous', 'poutcome', 'y'],\n",
      "      dtype='object')\n"
     ]
    }
   ],
   "source": [
    "# import bank market data into dataframe\n",
    "bank = pd.read_csv(\"./data/Bank Tele Marketing/bank_market.csv\")\n",
    "print(bank.shape)\n",
    "print(bank.columns)"
   ]
  },
  {
   "cell_type": "code",
   "execution_count": 6,
   "metadata": {},
   "outputs": [],
   "source": [
    "house_loan_yes = bank[bank[\"housing\"] == \"yes\"]\n",
    "house_loan_no = bank[bank[\"housing\"] == \"no\"]"
   ]
  },
  {
   "cell_type": "code",
   "execution_count": 7,
   "metadata": {},
   "outputs": [
    {
     "name": "stdout",
     "output_type": "stream",
     "text": [
      "3044.765829168518\n",
      "2483.285760899035\n",
      "3613.4053389340547\n"
     ]
    }
   ],
   "source": [
    "print(bank[\"balance\"].std()) # Standar deviation for entire data frame\n",
    "print(house_loan_yes[\"balance\"].std()) # Standard deviaiton for entries with housing loan\n",
    "print(house_loan_no[\"balance\"].std()) # Standard deviation for entries without housing loan"
   ]
  },
  {
   "cell_type": "code",
   "execution_count": 8,
   "metadata": {},
   "outputs": [
    {
     "name": "stdout",
     "output_type": "stream",
     "text": [
      "9270598.954472251\n",
      "6166708.170283898\n",
      "13056698.143437132\n"
     ]
    }
   ],
   "source": [
    "print(bank[\"balance\"].var()) # Variance for entire data frame\n",
    "print(house_loan_yes[\"balance\"].var()) # Variance for entries with housing loan\n",
    "print(house_loan_no[\"balance\"].var()) # Variance for the entries without housing loan"
   ]
  },
  {
   "cell_type": "markdown",
   "metadata": {},
   "source": [
    "## Percentile calculations"
   ]
  },
  {
   "cell_type": "code",
   "execution_count": 9,
   "metadata": {},
   "outputs": [
    {
     "name": "stdout",
     "output_type": "stream",
     "text": [
      "0.0\n"
     ]
    }
   ],
   "source": [
    "## Use the income data dataframe\n",
    "print(income_data[\"capital-gain\"].quantile(0.2))"
   ]
  },
  {
   "cell_type": "code",
   "execution_count": 12,
   "metadata": {},
   "outputs": [
    {
     "name": "stdout",
     "output_type": "stream",
     "text": [
      "0.1        0.0\n",
      "0.2        0.0\n",
      "0.3        0.0\n",
      "0.4        0.0\n",
      "0.5        0.0\n",
      "0.6        0.0\n",
      "0.7        0.0\n",
      "0.8        0.0\n",
      "0.9        0.0\n",
      "1.0    99999.0\n",
      "Name: capital-gain, dtype: float64\n"
     ]
    }
   ],
   "source": [
    "print(income_data[\"capital-gain\"].quantile([0.1, 0.2, 0.3, 0.4, 0.5, 0.6, 0.7, 0.8, 0.9, 1.0]))"
   ]
  },
  {
   "cell_type": "code",
   "execution_count": 13,
   "metadata": {},
   "outputs": [
    {
     "name": "stdout",
     "output_type": "stream",
     "text": [
      "0.90        0.0\n",
      "0.91        0.0\n",
      "0.92     1458.2\n",
      "0.93     2885.0\n",
      "0.94     3818.0\n",
      "0.95     5013.0\n",
      "0.96     7298.0\n",
      "0.97     7688.0\n",
      "0.98    14084.0\n",
      "0.99    15024.0\n",
      "1.00    99999.0\n",
      "Name: capital-gain, dtype: float64\n"
     ]
    }
   ],
   "source": [
    "print(income_data[\"capital-gain\"].quantile([0.9, 0.91,  0.92, 0.93, 0.94, 0.95, 0.96, 0.97, 0.98, 0.99, 1]))"
   ]
  },
  {
   "cell_type": "code",
   "execution_count": 14,
   "metadata": {},
   "outputs": [
    {
     "name": "stdout",
     "output_type": "stream",
     "text": [
      "0.1    24.0\n",
      "0.2    35.0\n",
      "0.3    40.0\n",
      "0.4    40.0\n",
      "0.5    40.0\n",
      "0.6    40.0\n",
      "0.7    40.0\n",
      "0.8    48.0\n",
      "0.9    55.0\n",
      "1.0    99.0\n",
      "Name: hours-per-week, dtype: float64\n"
     ]
    }
   ],
   "source": [
    "print(income_data[\"hours-per-week\"].quantile([0.1, 0.2, 0.3, 0.4, 0.5, 0.6, 0.7, 0.8, 0.9, 1]))"
   ]
  },
  {
   "cell_type": "code",
   "execution_count": 15,
   "metadata": {},
   "outputs": [
    {
     "name": "stdout",
     "output_type": "stream",
     "text": [
      "0.90    55.0\n",
      "0.91    55.0\n",
      "0.92    58.0\n",
      "0.93    60.0\n",
      "0.94    60.0\n",
      "0.95    60.0\n",
      "0.96    60.0\n",
      "0.97    65.0\n",
      "0.98    70.0\n",
      "0.99    80.0\n",
      "1.00    99.0\n",
      "Name: hours-per-week, dtype: float64\n"
     ]
    }
   ],
   "source": [
    "print(income_data[\"hours-per-week\"].quantile([0.9, 0.91, 0.92, 0.93, 0.94, 0.95, 0.96, 0.97, 0.98, 0.99, 1]))"
   ]
  },
  {
   "cell_type": "code",
   "execution_count": 16,
   "metadata": {},
   "outputs": [
    {
     "name": "stdout",
     "output_type": "stream",
     "text": [
      "0.00     1.0\n",
      "0.01     8.0\n",
      "0.02    10.0\n",
      "0.03    14.8\n",
      "0.04    15.0\n",
      "0.05    18.0\n",
      "0.06    20.0\n",
      "0.07    20.0\n",
      "0.08    20.0\n",
      "0.09    21.0\n",
      "0.10    24.0\n",
      "Name: hours-per-week, dtype: float64\n"
     ]
    }
   ],
   "source": [
    "print(income_data[\"hours-per-week\"].quantile([0, 0.01, 0.02, 0.03, 0.04, 0.05, 0.06, 0.07, 0.08, 0.09, 0.1]))"
   ]
  },
  {
   "cell_type": "code",
   "execution_count": 17,
   "metadata": {},
   "outputs": [
    {
     "name": "stdout",
     "output_type": "stream",
     "text": [
      "count    32561.000000\n",
      "mean        38.581647\n",
      "std         13.640433\n",
      "min         17.000000\n",
      "25%         28.000000\n",
      "50%         37.000000\n",
      "75%         48.000000\n",
      "max         90.000000\n",
      "Name: age, dtype: float64\n"
     ]
    }
   ],
   "source": [
    "# Get the percentile values with describe function\n",
    "print(income_data[\"age\"].describe())"
   ]
  },
  {
   "cell_type": "code",
   "execution_count": 18,
   "metadata": {},
   "outputs": [
    {
     "data": {
      "text/plain": [
       "{'whiskers': [<matplotlib.lines.Line2D at 0x1204621d0>,\n",
       "  <matplotlib.lines.Line2D at 0x120462e10>],\n",
       " 'caps': [<matplotlib.lines.Line2D at 0x120463a50>,\n",
       "  <matplotlib.lines.Line2D at 0x120474690>],\n",
       " 'boxes': [<matplotlib.lines.Line2D at 0x120454950>],\n",
       " 'medians': [<matplotlib.lines.Line2D at 0x1204751d0>],\n",
       " 'fliers': [<matplotlib.lines.Line2D at 0x120475cd0>],\n",
       " 'means': []}"
      ]
     },
     "execution_count": 18,
     "metadata": {},
     "output_type": "execute_result"
    },
    {
     "data": {
      "image/png": "[encoded data removed]",
      "text/plain": [
       "<Figure size 640x480 with 1 Axes>"
      ]
     },
     "metadata": {},
     "output_type": "display_data"
    }
   ],
   "source": [
    "import matplotlib.pyplot as plt\n",
    "plt.boxplot(income_data[\"age\"])"
   ]
  },
  {
   "cell_type": "code",
   "execution_count": 19,
   "metadata": {},
   "outputs": [
    {
     "name": "stdout",
     "output_type": "stream",
     "text": [
      "count    32561.000000\n",
      "mean      1077.648844\n",
      "std       7385.292085\n",
      "min          0.000000\n",
      "25%          0.000000\n",
      "50%          0.000000\n",
      "75%          0.000000\n",
      "max      99999.000000\n",
      "Name: capital-gain, dtype: float64\n"
     ]
    }
   ],
   "source": [
    "print(income_data[\"capital-gain\"].describe())"
   ]
  },
  {
   "cell_type": "code",
   "execution_count": 20,
   "metadata": {},
   "outputs": [
    {
     "data": {
      "text/plain": [
       "{'whiskers': [<matplotlib.lines.Line2D at 0x12052edd0>,\n",
       "  <matplotlib.lines.Line2D at 0x12052f750>],\n",
       " 'caps': [<matplotlib.lines.Line2D at 0x120538150>,\n",
       "  <matplotlib.lines.Line2D at 0x120538850>],\n",
       " 'boxes': [<matplotlib.lines.Line2D at 0x12052e490>],\n",
       " 'medians': [<matplotlib.lines.Line2D at 0x120539190>],\n",
       " 'fliers': [<matplotlib.lines.Line2D at 0x120539a50>],\n",
       " 'means': []}"
      ]
     },
     "execution_count": 20,
     "metadata": {},
     "output_type": "execute_result"
    },
    {
     "data": {
      "image/png": "[encoded data removed]",
      "text/plain": [
       "<Figure size 640x480 with 1 Axes>"
      ]
     },
     "metadata": {},
     "output_type": "display_data"
    }
   ],
   "source": [
    "plt.boxplot(income_data[\"capital-gain\"])"
   ]
  },
  {
   "cell_type": "code",
   "execution_count": 21,
   "metadata": {},
   "outputs": [
    {
     "name": "stdout",
     "output_type": "stream",
     "text": [
      "count    32561.000000\n",
      "mean        40.437456\n",
      "std         12.347429\n",
      "min          1.000000\n",
      "25%         40.000000\n",
      "50%         40.000000\n",
      "75%         45.000000\n",
      "max         99.000000\n",
      "Name: hours-per-week, dtype: float64\n"
     ]
    }
   ],
   "source": [
    "print(income_data[\"hours-per-week\"].describe())"
   ]
  },
  {
   "cell_type": "code",
   "execution_count": 22,
   "metadata": {},
   "outputs": [
    {
     "data": {
      "text/plain": [
       "{'whiskers': [<matplotlib.lines.Line2D at 0x1205a5110>,\n",
       "  <matplotlib.lines.Line2D at 0x1205a5a90>],\n",
       " 'caps': [<matplotlib.lines.Line2D at 0x1205a6290>,\n",
       "  <matplotlib.lines.Line2D at 0x1205a6c10>],\n",
       " 'boxes': [<matplotlib.lines.Line2D at 0x12052e210>],\n",
       " 'medians': [<matplotlib.lines.Line2D at 0x1205a7590>],\n",
       " 'fliers': [<matplotlib.lines.Line2D at 0x1205a7e10>],\n",
       " 'means': []}"
      ]
     },
     "execution_count": 22,
     "metadata": {},
     "output_type": "execute_result"
    },
    {
     "data": {
      "image/png": "[encoded data removed]",
      "text/plain": [
       "<Figure size 640x480 with 1 Axes>"
      ]
     },
     "metadata": {},
     "output_type": "display_data"
    }
   ],
   "source": [
    "plt.boxplot(income_data[\"hours-per-week\"])"
   ]
  },
  {
   "cell_type": "code",
   "execution_count": null,
   "metadata": {},
   "outputs": [],
   "source": []
  }
 ],
 "metadata": {
  "kernelspec": {
   "display_name": "learn",
   "language": "python",
   "name": "python3"
  },
  "language_info": {
   "codemirror_mode": {
    "name": "ipython",
    "version": 3
   },
   "file_extension": ".py",
   "mimetype": "text/x-python",
   "name": "python",
   "nbconvert_exporter": "python",
   "pygments_lexer": "ipython3",
   "version": "3.11.9"
  }
 },
 "nbformat": 4,
 "nbformat_minor": 2
}
