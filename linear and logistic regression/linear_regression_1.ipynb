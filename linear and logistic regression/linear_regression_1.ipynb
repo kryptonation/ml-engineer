{
 "cells": [
  {
   "cell_type": "code",
   "execution_count": 5,
   "metadata": {},
   "outputs": [],
   "source": [
    "# import necessary libraries\n",
    "import pandas as pd\n",
    "import matplotlib.pyplot as plt\n",
    "import statsmodels.formula.api as sm"
   ]
  },
  {
   "cell_type": "code",
   "execution_count": 6,
   "metadata": {},
   "outputs": [
    {
     "name": "stdout",
     "output_type": "stream",
     "text": [
      "(263, 9)\n",
      "   Passengers_count  marketing_cost  percent_delayed_flights  number_of_trips  \\\n",
      "0             23291          3588.1                     0.21             1503   \n",
      "1             25523          3186.3                     0.20             1881   \n",
      "2             25620          3342.0                     0.27             1850   \n",
      "3             19625          2512.5                     0.18             1295   \n",
      "4             27231          3012.1                     0.23             1100   \n",
      "\n",
      "   customer_ratings  poor_weather_index  percent_male_customers  Holiday_week  \\\n",
      "0                 5                0.19                      38             0   \n",
      "1                 6                0.22                      35             0   \n",
      "2                 7                0.27                      51             0   \n",
      "3                 8                0.19                      37             0   \n",
      "4                 9                0.24                      38             0   \n",
      "\n",
      "   percent_female_customers  \n",
      "0                      61.2  \n",
      "1                      64.4  \n",
      "2                      48.0  \n",
      "3                      62.6  \n",
      "4                      61.2  \n"
     ]
    }
   ],
   "source": [
    "# import dataset into dataframe\n",
    "air_pass = pd.read_csv(\"./data/Air_Passengers.csv\")\n",
    "print(air_pass.shape)\n",
    "print(air_pass.head())"
   ]
  },
  {
   "cell_type": "code",
   "execution_count": 7,
   "metadata": {},
   "outputs": [
    {
     "data": {
      "text/html": [
       "<table class=\"simpletable\">\n",
       "<caption>OLS Regression Results</caption>\n",
       "<tr>\n",
       "  <th>Dep. Variable:</th>    <td>Passengers_count</td> <th>  R-squared:         </th> <td>   0.761</td>\n",
       "</tr>\n",
       "<tr>\n",
       "  <th>Model:</th>                   <td>OLS</td>       <th>  Adj. R-squared:    </th> <td>   0.760</td>\n",
       "</tr>\n",
       "<tr>\n",
       "  <th>Method:</th>             <td>Least Squares</td>  <th>  F-statistic:       </th> <td>   830.0</td>\n",
       "</tr>\n",
       "<tr>\n",
       "  <th>Date:</th>             <td>Tue, 30 Jul 2024</td> <th>  Prob (F-statistic):</th> <td>4.87e-83</td>\n",
       "</tr>\n",
       "<tr>\n",
       "  <th>Time:</th>                 <td>03:53:41</td>     <th>  Log-Likelihood:    </th> <td> -2453.4</td>\n",
       "</tr>\n",
       "<tr>\n",
       "  <th>No. Observations:</th>      <td>   263</td>      <th>  AIC:               </th> <td>   4911.</td>\n",
       "</tr>\n",
       "<tr>\n",
       "  <th>Df Residuals:</th>          <td>   261</td>      <th>  BIC:               </th> <td>   4918.</td>\n",
       "</tr>\n",
       "<tr>\n",
       "  <th>Df Model:</th>              <td>     1</td>      <th>                     </th>     <td> </td>   \n",
       "</tr>\n",
       "<tr>\n",
       "  <th>Covariance Type:</th>      <td>nonrobust</td>    <th>                     </th>     <td> </td>   \n",
       "</tr>\n",
       "</table>\n",
       "<table class=\"simpletable\">\n",
       "<tr>\n",
       "         <td></td>           <th>coef</th>     <th>std err</th>      <th>t</th>      <th>P>|t|</th>  <th>[0.025</th>    <th>0.975]</th>  \n",
       "</tr>\n",
       "<tr>\n",
       "  <th>Intercept</th>      <td> 5186.6868</td> <td>  839.019</td> <td>    6.182</td> <td> 0.000</td> <td> 3534.579</td> <td> 6838.795</td>\n",
       "</tr>\n",
       "<tr>\n",
       "  <th>marketing_cost</th> <td>    6.3901</td> <td>    0.222</td> <td>   28.810</td> <td> 0.000</td> <td>    5.953</td> <td>    6.827</td>\n",
       "</tr>\n",
       "</table>\n",
       "<table class=\"simpletable\">\n",
       "<tr>\n",
       "  <th>Omnibus:</th>       <td> 8.874</td> <th>  Durbin-Watson:     </th> <td>   1.829</td>\n",
       "</tr>\n",
       "<tr>\n",
       "  <th>Prob(Omnibus):</th> <td> 0.012</td> <th>  Jarque-Bera (JB):  </th> <td>   9.679</td>\n",
       "</tr>\n",
       "<tr>\n",
       "  <th>Skew:</th>          <td> 0.342</td> <th>  Prob(JB):          </th> <td> 0.00791</td>\n",
       "</tr>\n",
       "<tr>\n",
       "  <th>Kurtosis:</th>      <td> 3.644</td> <th>  Cond. No.          </th> <td>1.88e+04</td>\n",
       "</tr>\n",
       "</table><br/><br/>Notes:<br/>[1] Standard Errors assume that the covariance matrix of the errors is correctly specified.<br/>[2] The condition number is large, 1.88e+04. This might indicate that there are<br/>strong multicollinearity or other numerical problems."
      ],
      "text/latex": [
       "\\begin{center}\n",
       "\\begin{tabular}{lclc}\n",
       "\\toprule\n",
       "\\textbf{Dep. Variable:}    & Passengers\\_count & \\textbf{  R-squared:         } &     0.761   \\\\\n",
       "\\textbf{Model:}            &        OLS        & \\textbf{  Adj. R-squared:    } &     0.760   \\\\\n",
       "\\textbf{Method:}           &   Least Squares   & \\textbf{  F-statistic:       } &     830.0   \\\\\n",
       "\\textbf{Date:}             &  Tue, 30 Jul 2024 & \\textbf{  Prob (F-statistic):} &  4.87e-83   \\\\\n",
       "\\textbf{Time:}             &      03:53:41     & \\textbf{  Log-Likelihood:    } &   -2453.4   \\\\\n",
       "\\textbf{No. Observations:} &          263      & \\textbf{  AIC:               } &     4911.   \\\\\n",
       "\\textbf{Df Residuals:}     &          261      & \\textbf{  BIC:               } &     4918.   \\\\\n",
       "\\textbf{Df Model:}         &            1      & \\textbf{                     } &             \\\\\n",
       "\\textbf{Covariance Type:}  &     nonrobust     & \\textbf{                     } &             \\\\\n",
       "\\bottomrule\n",
       "\\end{tabular}\n",
       "\\begin{tabular}{lcccccc}\n",
       "                         & \\textbf{coef} & \\textbf{std err} & \\textbf{t} & \\textbf{P$> |$t$|$} & \\textbf{[0.025} & \\textbf{0.975]}  \\\\\n",
       "\\midrule\n",
       "\\textbf{Intercept}       &    5186.6868  &      839.019     &     6.182  &         0.000        &     3534.579    &     6838.795     \\\\\n",
       "\\textbf{marketing\\_cost} &       6.3901  &        0.222     &    28.810  &         0.000        &        5.953    &        6.827     \\\\\n",
       "\\bottomrule\n",
       "\\end{tabular}\n",
       "\\begin{tabular}{lclc}\n",
       "\\textbf{Omnibus:}       &  8.874 & \\textbf{  Durbin-Watson:     } &    1.829  \\\\\n",
       "\\textbf{Prob(Omnibus):} &  0.012 & \\textbf{  Jarque-Bera (JB):  } &    9.679  \\\\\n",
       "\\textbf{Skew:}          &  0.342 & \\textbf{  Prob(JB):          } &  0.00791  \\\\\n",
       "\\textbf{Kurtosis:}      &  3.644 & \\textbf{  Cond. No.          } & 1.88e+04  \\\\\n",
       "\\bottomrule\n",
       "\\end{tabular}\n",
       "%\\caption{OLS Regression Results}\n",
       "\\end{center}\n",
       "\n",
       "Notes: \\newline\n",
       " [1] Standard Errors assume that the covariance matrix of the errors is correctly specified. \\newline\n",
       " [2] The condition number is large, 1.88e+04. This might indicate that there are \\newline\n",
       " strong multicollinearity or other numerical problems."
      ],
      "text/plain": [
       "<class 'statsmodels.iolib.summary.Summary'>\n",
       "\"\"\"\n",
       "                            OLS Regression Results                            \n",
       "==============================================================================\n",
       "Dep. Variable:       Passengers_count   R-squared:                       0.761\n",
       "Model:                            OLS   Adj. R-squared:                  0.760\n",
       "Method:                 Least Squares   F-statistic:                     830.0\n",
       "Date:                Tue, 30 Jul 2024   Prob (F-statistic):           4.87e-83\n",
       "Time:                        03:53:41   Log-Likelihood:                -2453.4\n",
       "No. Observations:                 263   AIC:                             4911.\n",
       "Df Residuals:                     261   BIC:                             4918.\n",
       "Df Model:                           1                                         \n",
       "Covariance Type:            nonrobust                                         \n",
       "==================================================================================\n",
       "                     coef    std err          t      P>|t|      [0.025      0.975]\n",
       "----------------------------------------------------------------------------------\n",
       "Intercept       5186.6868    839.019      6.182      0.000    3534.579    6838.795\n",
       "marketing_cost     6.3901      0.222     28.810      0.000       5.953       6.827\n",
       "==============================================================================\n",
       "Omnibus:                        8.874   Durbin-Watson:                   1.829\n",
       "Prob(Omnibus):                  0.012   Jarque-Bera (JB):                9.679\n",
       "Skew:                           0.342   Prob(JB):                      0.00791\n",
       "Kurtosis:                       3.644   Cond. No.                     1.88e+04\n",
       "==============================================================================\n",
       "\n",
       "Notes:\n",
       "[1] Standard Errors assume that the covariance matrix of the errors is correctly specified.\n",
       "[2] The condition number is large, 1.88e+04. This might indicate that there are\n",
       "strong multicollinearity or other numerical problems.\n",
       "\"\"\""
      ]
     },
     "execution_count": 7,
     "metadata": {},
     "output_type": "execute_result"
    }
   ],
   "source": [
    "model1 = sm.ols(formula=\"Passengers_count ~ marketing_cost\", data=air_pass)\n",
    "fitted1 = model1.fit()\n",
    "fitted1.summary()"
   ]
  },
  {
   "cell_type": "code",
   "execution_count": 9,
   "metadata": {},
   "outputs": [
    {
     "name": "stdout",
     "output_type": "stream",
     "text": [
      "33942.1368\n"
     ]
    }
   ],
   "source": [
    "passengers_count = 5186.6868 + 6.3901*4500\n",
    "print(passengers_count)"
   ]
  },
  {
   "cell_type": "code",
   "execution_count": 11,
   "metadata": {},
   "outputs": [
    {
     "name": "stdout",
     "output_type": "stream",
     "text": [
      "0    33942.146091\n",
      "dtype: float64\n"
     ]
    }
   ],
   "source": [
    "new_data = pd.DataFrame({\"marketing_cost\": [4500]})\n",
    "print(fitted1.predict(new_data))"
   ]
  },
  {
   "cell_type": "code",
   "execution_count": 13,
   "metadata": {},
   "outputs": [
    {
     "name": "stdout",
     "output_type": "stream",
     "text": [
      "0    24356.993003\n",
      "1    27552.044033\n",
      "2    56307.503294\n",
      "3    62697.605353\n",
      "dtype: float64\n"
     ]
    }
   ],
   "source": [
    "new_data1 = pd.DataFrame({\"marketing_cost\": [3000, 3500, 8000, 9000]})\n",
    "print(fitted1.predict(new_data1))"
   ]
  },
  {
   "cell_type": "code",
   "execution_count": null,
   "metadata": {},
   "outputs": [],
   "source": []
  }
 ],
 "metadata": {
  "kernelspec": {
   "display_name": "learn",
   "language": "python",
   "name": "python3"
  },
  "language_info": {
   "codemirror_mode": {
    "name": "ipython",
    "version": 3
   },
   "file_extension": ".py",
   "mimetype": "text/x-python",
   "name": "python",
   "nbconvert_exporter": "python",
   "pygments_lexer": "ipython3",
   "version": "3.11.9"
  }
 },
 "nbformat": 4,
 "nbformat_minor": 2
}
